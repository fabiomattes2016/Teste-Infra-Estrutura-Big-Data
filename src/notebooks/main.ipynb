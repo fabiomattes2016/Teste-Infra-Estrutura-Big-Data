{
 "cells": [
  {
   "cell_type": "code",
   "execution_count": null,
   "id": "1d6c40c3-24bb-4104-a9ea-eb729577ba6c",
   "metadata": {},
   "outputs": [],
   "source": [
    "from pyspark.sql import SparkSession\n",
    "\n",
    "\n",
    "# Criar uma SparkSession com as configurações para MinIO\n",
    "spark = (\n",
    "    SparkSession\n",
    "    .builder.appName(\"Teste Infra Estrutura Big Data\")\n",
    "    .config(\"spark.sql.catalog.spark_catalog\", \"org.apache.spark.sql.delta.catalog.DeltaCatalog\")\n",
    "    .config(\"spark.jars.packages\", \"org.apache.hadoop:hadoop-aws:3.3.4,com.amazonaws:aws-java-sdk-bundle:1.12.262,io.delta:delta-spark_2.12:3.0.0\")\n",
    "    .config(\"spark.sql.extensions\", \"io.delta.sql.DeltaSparkSessionExtension\")\n",
    "    .config(\"spark.hadoop.fs.s3a.endpoint\", \"https://myminio-hl.storage.svc.cluster.local:9443\") # Caminho do service do MinIO\n",
    "    .config(\"spark.hadoop.fs.s3a.access.key\", \"HC9nXTdmtcC3e6g5QSVS\") # Access Key MinIO\n",
    "    .config(\"spark.hadoop.fs.s3a.secret.key\", \"Kcl3CArpCNsuQRO9hCsFTRM4pVqcfkrEUGyv9EGR\") # Secret Key MinIO\n",
    "    .config(\"spark.hadoop.fs.s3a.path.style.access\", \"true\")\n",
    "    .config(\"spark.hadoop.fs.s3a.impl\", \"org.apache.hadoop.fs.s3a.S3AFileSystem\")\n",
    "    .config(\"spark.hadoop.mapreduce.job.metrics.exclude-types\", \"*\") # Evita o warning de não localização do hadoop-metrics\n",
    "    .config(\"spark.hadoop.mapreduce.fileoutputcommitter.algorithm.version\", \"2\")\n",
    "    .config(\"spark.hadoop.mapreduce.outputcommitter.factory.scheme.s3a\", \"org.apache.hadoop.fs.s3a.commit.S3ACommitterFactory\")\n",
    "    .config(\"spark.hadoop.fs.s3a.committer.name\", \"directory\")\n",
    "    .config(\"spark.hadoop.fs.s3a.committer.magic.enabled\", \"true\")\n",
    "    .config(\"spark.hadoop.fs.s3a.connection.ssl.enabled\", \"true\")\n",
    "    .config(\"spark.hadoop.fs.s3a.metrics.enabled\", \"false\")\n",
    "    .getOrCreate()\n",
    ")"
   ]
  },
  {
   "cell_type": "code",
   "execution_count": null,
   "id": "dc342223-b092-4ee4-a0e8-b5053afa827a",
   "metadata": {},
   "outputs": [],
   "source": [
    "data = [(\"John\", 28), (\"Anna\", 23), (\"Tom\", 35)]\n",
    "columns = [\"Nome\", \"Idade\"]\n",
    "\n",
    "df = spark.createDataFrame(data, columns)"
   ]
  },
  {
   "cell_type": "code",
   "execution_count": null,
   "id": "d2f900d0-35fd-41a6-aae5-8f8126698ca7",
   "metadata": {},
   "outputs": [],
   "source": [
    "bucket_path = \"s3a://stage-sandbox01/demo/teste.csv\""
   ]
  },
  {
   "cell_type": "code",
   "execution_count": null,
   "id": "f22fc475-20e5-44e6-b82e-1d947b89e3c9",
   "metadata": {},
   "outputs": [],
   "source": [
    "# df.write.format(\"delta\").mode(\"overwrite\").save(bucket_path)\n",
    "df.write.csv(bucket_path, mode=\"overwrite\", header=True)"
   ]
  },
  {
   "cell_type": "code",
   "execution_count": null,
   "id": "0e0a9d7c-47ba-4096-bade-7646cee0b7db",
   "metadata": {},
   "outputs": [],
   "source": [
    "spark.stop()"
   ]
  }
 ],
 "metadata": {
  "kernelspec": {
   "display_name": "Python 3 (ipykernel)",
   "language": "python",
   "name": "python3"
  },
  "language_info": {
   "codemirror_mode": {
    "name": "ipython",
    "version": 3
   },
   "file_extension": ".py",
   "mimetype": "text/x-python",
   "name": "python",
   "nbconvert_exporter": "python",
   "pygments_lexer": "ipython3",
   "version": "3.12.10"
  }
 },
 "nbformat": 4,
 "nbformat_minor": 5
}
